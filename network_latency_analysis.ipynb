{
 "cells": [
  {
   "cell_type": "markdown",
   "metadata": {},
   "source": [
    "# Network Latency Analysis\n",
    "\n",
    "> This notebook analyzes network latency data obtained from a series of ping tests. The objective is to identify patterns in packet loss and visualize the latency over time."
   ]
  },
  {
   "cell_type": "code",
   "execution_count": 90,
   "metadata": {},
   "outputs": [],
   "source": [
    "import pandas as pd\n",
    "import matplotlib.font_manager\n",
    "import matplotlib.pyplot as plt\n",
    "import seaborn as sns\n",
    "sns.set_theme(style='darkgrid')\n",
    "\n",
    "\n",
    "calibri = {'fontname':'Calibri'}\n",
    "boldfont = {'fontweight':'bold'}"
   ]
  },
  {
   "cell_type": "markdown",
   "metadata": {},
   "source": [
    "### Data Import and Processing"
   ]
  },
  {
   "cell_type": "code",
   "execution_count": 91,
   "metadata": {},
   "outputs": [
    {
     "name": "stdout",
     "output_type": "stream",
     "text": [
      "['64 bytes from 8.8.8.8: seq=0 ttl=58 time=18.834 ms', '64 bytes from 8.8.8.8: seq=1 ttl=58 time=22.746 ms', '64 bytes from 8.8.8.8: seq=2 ttl=58 time=20.971 ms', '64 bytes from 8.8.8.8: seq=3 ttl=58 time=23.698 ms', '64 bytes from 8.8.8.8: seq=4 ttl=58 time=19.551 ms', '64 bytes from 8.8.8.8: seq=5 ttl=58 time=17.358 ms', '64 bytes from 8.8.8.8: seq=6 ttl=58 time=18.406 ms', '64 bytes from 8.8.8.8: seq=7 ttl=58 time=19.688 ms', '64 bytes from 8.8.8.8: seq=8 ttl=58 time=15.534 ms', '64 bytes from 8.8.8.8: seq=9 ttl=58 time=16.535 ms', '64 bytes from 8.8.8.8: seq=10 ttl=58 time=16.041 ms', '64 bytes from 8.8.8.8: seq=11 ttl=58 time=17.083 ms', '64 bytes from 8.8.8.8: seq=12 ttl=58 time=18.106 ms', '64 bytes from 8.8.8.8: seq=13 ttl=58 time=18.689 ms', '64 bytes from 8.8.8.8: seq=14 ttl=58 time=15.688 ms', '64 bytes from 8.8.8.8: seq=15 ttl=58 time=18.278 ms', '64 bytes from 8.8.8.8: seq=16 ttl=58 time=22.622 ms', '64 bytes from 8.8.8.8: seq=17 ttl=58 time=17.714 ms', '64 bytes from 8.8.8.8: seq=18 ttl=58 time=21.442 ms', '64 bytes from 8.8.8.8: seq=19 ttl=58 time=19.196 ms', '64 bytes from 8.8.8.8: seq=20 ttl=58 time=19.792 ms', '64 bytes from 8.8.8.8: seq=21 ttl=58 time=15.367 ms', '64 bytes from 8.8.8.8: seq=22 ttl=58 time=15.027 ms', '64 bytes from 8.8.8.8: seq=23 ttl=58 time=21.481 ms', '64 bytes from 8.8.8.8: seq=24 ttl=58 time=15.734 ms', '64 bytes from 8.8.8.8: seq=25 ttl=58 time=15.555 ms', '64 bytes from 8.8.8.8: seq=26 ttl=58 time=14.831 ms', '64 bytes from 8.8.8.8: seq=27 ttl=58 time=37.170 ms', '64 bytes from 8.8.8.8: seq=28 ttl=58 time=15.704 ms', '64 bytes from 8.8.8.8: seq=29 ttl=58 time=16.566 ms', '64 bytes from 8.8.8.8: seq=30 ttl=58 time=17.332 ms', '64 bytes from 8.8.8.8: seq=31 ttl=58 time=18.521 ms', '64 bytes from 8.8.8.8: seq=32 ttl=58 time=15.564 ms', '64 bytes from 8.8.8.8: seq=33 ttl=58 time=15.449 ms', '64 bytes from 8.8.8.8: seq=34 ttl=58 time=15.263 ms', '64 bytes from 8.8.8.8: seq=35 ttl=58 time=19.126 ms', '64 bytes from 8.8.8.8: seq=36 ttl=58 time=15.574 ms', '64 bytes from 8.8.8.8: seq=37 ttl=58 time=15.630 ms', '64 bytes from 8.8.8.8: seq=38 ttl=58 time=19.855 ms', '64 bytes from 8.8.8.8: seq=39 ttl=58 time=19.269 ms', '64 bytes from 8.8.8.8: seq=40 ttl=58 time=16.518 ms', '64 bytes from 8.8.8.8: seq=41 ttl=58 time=20.137 ms', '64 bytes from 8.8.8.8: seq=42 ttl=58 time=17.097 ms', '64 bytes from 8.8.8.8: seq=43 ttl=58 time=20.128 ms', '64 bytes from 8.8.8.8: seq=44 ttl=58 time=19.720 ms', '64 bytes from 8.8.8.8: seq=45 ttl=58 time=16.512 ms', '64 bytes from 8.8.8.8: seq=46 ttl=58 time=20.100 ms', '64 bytes from 8.8.8.8: seq=47 ttl=58 time=20.501 ms', '64 bytes from 8.8.8.8: seq=48 ttl=58 time=20.186 ms', '64 bytes from 8.8.8.8: seq=49 ttl=58 time=17.817 ms', '64 bytes from 8.8.8.8: seq=50 ttl=58 time=16.250 ms', '64 bytes from 8.8.8.8: seq=51 ttl=58 time=21.192 ms', '64 bytes from 8.8.8.8: seq=52 ttl=58 time=15.531 ms', '64 bytes from 8.8.8.8: seq=53 ttl=58 time=15.989 ms', '64 bytes from 8.8.8.8: seq=54 ttl=58 time=15.384 ms', '64 bytes from 8.8.8.8: seq=55 ttl=58 time=20.158 ms', '64 bytes from 8.8.8.8: seq=56 ttl=58 time=17.319 ms', '64 bytes from 8.8.8.8: seq=57 ttl=58 time=14.522 ms', '64 bytes from 8.8.8.8: seq=58 ttl=58 time=15.461 ms', '64 bytes from 8.8.8.8: seq=59 ttl=58 time=18.581 ms', '64 bytes from 8.8.8.8: seq=60 ttl=58 time=18.507 ms', '64 bytes from 8.8.8.8: seq=61 ttl=58 time=18.173 ms', '64 bytes from 8.8.8.8: seq=62 ttl=58 time=16.824 ms', '64 bytes from 8.8.8.8: seq=63 ttl=58 time=17.541 ms', '64 bytes from 8.8.8.8: seq=64 ttl=58 time=17.024 ms', '64 bytes from 8.8.8.8: seq=65 ttl=58 time=20.964 ms', '64 bytes from 8.8.8.8: seq=66 ttl=58 time=17.353 ms', '64 bytes from 8.8.8.8: seq=67 ttl=58 time=18.995 ms', '64 bytes from 8.8.8.8: seq=68 ttl=58 time=17.484 ms', '64 bytes from 8.8.8.8: seq=69 ttl=58 time=19.255 ms', '64 bytes from 8.8.8.8: seq=70 ttl=58 time=17.471 ms', '64 bytes from 8.8.8.8: seq=71 ttl=58 time=16.675 ms', '64 bytes from 8.8.8.8: seq=72 ttl=58 time=15.625 ms', '64 bytes from 8.8.8.8: seq=73 ttl=58 time=15.889 ms', '64 bytes from 8.8.8.8: seq=74 ttl=58 time=21.880 ms', '64 bytes from 8.8.8.8: seq=75 ttl=58 time=18.217 ms', '64 bytes from 8.8.8.8: seq=76 ttl=58 time=14.593 ms', '64 bytes from 8.8.8.8: seq=77 ttl=58 time=16.473 ms', '64 bytes from 8.8.8.8: seq=78 ttl=58 time=15.058 ms', '64 bytes from 8.8.8.8: seq=79 ttl=58 time=16.870 ms', '64 bytes from 8.8.8.8: seq=80 ttl=58 time=18.405 ms', '64 bytes from 8.8.8.8: seq=81 ttl=58 time=15.909 ms', '64 bytes from 8.8.8.8: seq=82 ttl=58 time=18.522 ms', '64 bytes from 8.8.8.8: seq=83 ttl=58 time=17.762 ms', '64 bytes from 8.8.8.8: seq=84 ttl=58 time=15.079 ms', '64 bytes from 8.8.8.8: seq=85 ttl=58 time=16.914 ms', '64 bytes from 8.8.8.8: seq=86 ttl=58 time=15.364 ms', '64 bytes from 8.8.8.8: seq=87 ttl=58 time=16.141 ms', '64 bytes from 8.8.8.8: seq=88 ttl=58 time=21.276 ms', '64 bytes from 8.8.8.8: seq=89 ttl=58 time=19.506 ms', '64 bytes from 8.8.8.8: seq=90 ttl=58 time=19.699 ms', '64 bytes from 8.8.8.8: seq=91 ttl=58 time=22.322 ms', '64 bytes from 8.8.8.8: seq=92 ttl=58 time=15.805 ms', '64 bytes from 8.8.8.8: seq=93 ttl=58 time=17.955 ms', '64 bytes from 8.8.8.8: seq=94 ttl=58 time=19.354 ms', '64 bytes from 8.8.8.8: seq=95 ttl=58 time=16.473 ms', '64 bytes from 8.8.8.8: seq=96 ttl=58 time=19.197 ms', '64 bytes from 8.8.8.8: seq=97 ttl=58 time=16.237 ms', '64 bytes from 8.8.8.8: seq=98 ttl=58 time=19.126 ms', '']\n"
     ]
    },
    {
     "data": {
      "text/plain": [
       "[['64', 'bytes', 'from', '8.8.8.8:', 'seq=0', 'ttl=58', 'time=18.834', 'ms'],\n",
       " ['64', 'bytes', 'from', '8.8.8.8:', 'seq=1', 'ttl=58', 'time=22.746', 'ms'],\n",
       " ['64', 'bytes', 'from', '8.8.8.8:', 'seq=2', 'ttl=58', 'time=20.971', 'ms'],\n",
       " ['64', 'bytes', 'from', '8.8.8.8:', 'seq=3', 'ttl=58', 'time=23.698', 'ms'],\n",
       " ['64', 'bytes', 'from', '8.8.8.8:', 'seq=4', 'ttl=58', 'time=19.551', 'ms'],\n",
       " ['64', 'bytes', 'from', '8.8.8.8:', 'seq=5', 'ttl=58', 'time=17.358', 'ms'],\n",
       " ['64', 'bytes', 'from', '8.8.8.8:', 'seq=6', 'ttl=58', 'time=18.406', 'ms'],\n",
       " ['64', 'bytes', 'from', '8.8.8.8:', 'seq=7', 'ttl=58', 'time=19.688', 'ms'],\n",
       " ['64', 'bytes', 'from', '8.8.8.8:', 'seq=8', 'ttl=58', 'time=15.534', 'ms'],\n",
       " ['64', 'bytes', 'from', '8.8.8.8:', 'seq=9', 'ttl=58', 'time=16.535', 'ms'],\n",
       " ['64', 'bytes', 'from', '8.8.8.8:', 'seq=10', 'ttl=58', 'time=16.041', 'ms'],\n",
       " ['64', 'bytes', 'from', '8.8.8.8:', 'seq=11', 'ttl=58', 'time=17.083', 'ms'],\n",
       " ['64', 'bytes', 'from', '8.8.8.8:', 'seq=12', 'ttl=58', 'time=18.106', 'ms'],\n",
       " ['64', 'bytes', 'from', '8.8.8.8:', 'seq=13', 'ttl=58', 'time=18.689', 'ms'],\n",
       " ['64', 'bytes', 'from', '8.8.8.8:', 'seq=14', 'ttl=58', 'time=15.688', 'ms'],\n",
       " ['64', 'bytes', 'from', '8.8.8.8:', 'seq=15', 'ttl=58', 'time=18.278', 'ms'],\n",
       " ['64', 'bytes', 'from', '8.8.8.8:', 'seq=16', 'ttl=58', 'time=22.622', 'ms'],\n",
       " ['64', 'bytes', 'from', '8.8.8.8:', 'seq=17', 'ttl=58', 'time=17.714', 'ms'],\n",
       " ['64', 'bytes', 'from', '8.8.8.8:', 'seq=18', 'ttl=58', 'time=21.442', 'ms'],\n",
       " ['64', 'bytes', 'from', '8.8.8.8:', 'seq=19', 'ttl=58', 'time=19.196', 'ms'],\n",
       " ['64', 'bytes', 'from', '8.8.8.8:', 'seq=20', 'ttl=58', 'time=19.792', 'ms'],\n",
       " ['64', 'bytes', 'from', '8.8.8.8:', 'seq=21', 'ttl=58', 'time=15.367', 'ms'],\n",
       " ['64', 'bytes', 'from', '8.8.8.8:', 'seq=22', 'ttl=58', 'time=15.027', 'ms'],\n",
       " ['64', 'bytes', 'from', '8.8.8.8:', 'seq=23', 'ttl=58', 'time=21.481', 'ms'],\n",
       " ['64', 'bytes', 'from', '8.8.8.8:', 'seq=24', 'ttl=58', 'time=15.734', 'ms'],\n",
       " ['64', 'bytes', 'from', '8.8.8.8:', 'seq=25', 'ttl=58', 'time=15.555', 'ms'],\n",
       " ['64', 'bytes', 'from', '8.8.8.8:', 'seq=26', 'ttl=58', 'time=14.831', 'ms'],\n",
       " ['64', 'bytes', 'from', '8.8.8.8:', 'seq=27', 'ttl=58', 'time=37.170', 'ms'],\n",
       " ['64', 'bytes', 'from', '8.8.8.8:', 'seq=28', 'ttl=58', 'time=15.704', 'ms'],\n",
       " ['64', 'bytes', 'from', '8.8.8.8:', 'seq=29', 'ttl=58', 'time=16.566', 'ms'],\n",
       " ['64', 'bytes', 'from', '8.8.8.8:', 'seq=30', 'ttl=58', 'time=17.332', 'ms'],\n",
       " ['64', 'bytes', 'from', '8.8.8.8:', 'seq=31', 'ttl=58', 'time=18.521', 'ms'],\n",
       " ['64', 'bytes', 'from', '8.8.8.8:', 'seq=32', 'ttl=58', 'time=15.564', 'ms'],\n",
       " ['64', 'bytes', 'from', '8.8.8.8:', 'seq=33', 'ttl=58', 'time=15.449', 'ms'],\n",
       " ['64', 'bytes', 'from', '8.8.8.8:', 'seq=34', 'ttl=58', 'time=15.263', 'ms'],\n",
       " ['64', 'bytes', 'from', '8.8.8.8:', 'seq=35', 'ttl=58', 'time=19.126', 'ms'],\n",
       " ['64', 'bytes', 'from', '8.8.8.8:', 'seq=36', 'ttl=58', 'time=15.574', 'ms'],\n",
       " ['64', 'bytes', 'from', '8.8.8.8:', 'seq=37', 'ttl=58', 'time=15.630', 'ms'],\n",
       " ['64', 'bytes', 'from', '8.8.8.8:', 'seq=38', 'ttl=58', 'time=19.855', 'ms'],\n",
       " ['64', 'bytes', 'from', '8.8.8.8:', 'seq=39', 'ttl=58', 'time=19.269', 'ms'],\n",
       " ['64', 'bytes', 'from', '8.8.8.8:', 'seq=40', 'ttl=58', 'time=16.518', 'ms'],\n",
       " ['64', 'bytes', 'from', '8.8.8.8:', 'seq=41', 'ttl=58', 'time=20.137', 'ms'],\n",
       " ['64', 'bytes', 'from', '8.8.8.8:', 'seq=42', 'ttl=58', 'time=17.097', 'ms'],\n",
       " ['64', 'bytes', 'from', '8.8.8.8:', 'seq=43', 'ttl=58', 'time=20.128', 'ms'],\n",
       " ['64', 'bytes', 'from', '8.8.8.8:', 'seq=44', 'ttl=58', 'time=19.720', 'ms'],\n",
       " ['64', 'bytes', 'from', '8.8.8.8:', 'seq=45', 'ttl=58', 'time=16.512', 'ms'],\n",
       " ['64', 'bytes', 'from', '8.8.8.8:', 'seq=46', 'ttl=58', 'time=20.100', 'ms'],\n",
       " ['64', 'bytes', 'from', '8.8.8.8:', 'seq=47', 'ttl=58', 'time=20.501', 'ms'],\n",
       " ['64', 'bytes', 'from', '8.8.8.8:', 'seq=48', 'ttl=58', 'time=20.186', 'ms'],\n",
       " ['64', 'bytes', 'from', '8.8.8.8:', 'seq=49', 'ttl=58', 'time=17.817', 'ms'],\n",
       " ['64', 'bytes', 'from', '8.8.8.8:', 'seq=50', 'ttl=58', 'time=16.250', 'ms'],\n",
       " ['64', 'bytes', 'from', '8.8.8.8:', 'seq=51', 'ttl=58', 'time=21.192', 'ms'],\n",
       " ['64', 'bytes', 'from', '8.8.8.8:', 'seq=52', 'ttl=58', 'time=15.531', 'ms'],\n",
       " ['64', 'bytes', 'from', '8.8.8.8:', 'seq=53', 'ttl=58', 'time=15.989', 'ms'],\n",
       " ['64', 'bytes', 'from', '8.8.8.8:', 'seq=54', 'ttl=58', 'time=15.384', 'ms'],\n",
       " ['64', 'bytes', 'from', '8.8.8.8:', 'seq=55', 'ttl=58', 'time=20.158', 'ms'],\n",
       " ['64', 'bytes', 'from', '8.8.8.8:', 'seq=56', 'ttl=58', 'time=17.319', 'ms'],\n",
       " ['64', 'bytes', 'from', '8.8.8.8:', 'seq=57', 'ttl=58', 'time=14.522', 'ms'],\n",
       " ['64', 'bytes', 'from', '8.8.8.8:', 'seq=58', 'ttl=58', 'time=15.461', 'ms'],\n",
       " ['64', 'bytes', 'from', '8.8.8.8:', 'seq=59', 'ttl=58', 'time=18.581', 'ms'],\n",
       " ['64', 'bytes', 'from', '8.8.8.8:', 'seq=60', 'ttl=58', 'time=18.507', 'ms'],\n",
       " ['64', 'bytes', 'from', '8.8.8.8:', 'seq=61', 'ttl=58', 'time=18.173', 'ms'],\n",
       " ['64', 'bytes', 'from', '8.8.8.8:', 'seq=62', 'ttl=58', 'time=16.824', 'ms'],\n",
       " ['64', 'bytes', 'from', '8.8.8.8:', 'seq=63', 'ttl=58', 'time=17.541', 'ms'],\n",
       " ['64', 'bytes', 'from', '8.8.8.8:', 'seq=64', 'ttl=58', 'time=17.024', 'ms'],\n",
       " ['64', 'bytes', 'from', '8.8.8.8:', 'seq=65', 'ttl=58', 'time=20.964', 'ms'],\n",
       " ['64', 'bytes', 'from', '8.8.8.8:', 'seq=66', 'ttl=58', 'time=17.353', 'ms'],\n",
       " ['64', 'bytes', 'from', '8.8.8.8:', 'seq=67', 'ttl=58', 'time=18.995', 'ms'],\n",
       " ['64', 'bytes', 'from', '8.8.8.8:', 'seq=68', 'ttl=58', 'time=17.484', 'ms'],\n",
       " ['64', 'bytes', 'from', '8.8.8.8:', 'seq=69', 'ttl=58', 'time=19.255', 'ms'],\n",
       " ['64', 'bytes', 'from', '8.8.8.8:', 'seq=70', 'ttl=58', 'time=17.471', 'ms'],\n",
       " ['64', 'bytes', 'from', '8.8.8.8:', 'seq=71', 'ttl=58', 'time=16.675', 'ms'],\n",
       " ['64', 'bytes', 'from', '8.8.8.8:', 'seq=72', 'ttl=58', 'time=15.625', 'ms'],\n",
       " ['64', 'bytes', 'from', '8.8.8.8:', 'seq=73', 'ttl=58', 'time=15.889', 'ms'],\n",
       " ['64', 'bytes', 'from', '8.8.8.8:', 'seq=74', 'ttl=58', 'time=21.880', 'ms'],\n",
       " ['64', 'bytes', 'from', '8.8.8.8:', 'seq=75', 'ttl=58', 'time=18.217', 'ms'],\n",
       " ['64', 'bytes', 'from', '8.8.8.8:', 'seq=76', 'ttl=58', 'time=14.593', 'ms'],\n",
       " ['64', 'bytes', 'from', '8.8.8.8:', 'seq=77', 'ttl=58', 'time=16.473', 'ms'],\n",
       " ['64', 'bytes', 'from', '8.8.8.8:', 'seq=78', 'ttl=58', 'time=15.058', 'ms'],\n",
       " ['64', 'bytes', 'from', '8.8.8.8:', 'seq=79', 'ttl=58', 'time=16.870', 'ms'],\n",
       " ['64', 'bytes', 'from', '8.8.8.8:', 'seq=80', 'ttl=58', 'time=18.405', 'ms'],\n",
       " ['64', 'bytes', 'from', '8.8.8.8:', 'seq=81', 'ttl=58', 'time=15.909', 'ms'],\n",
       " ['64', 'bytes', 'from', '8.8.8.8:', 'seq=82', 'ttl=58', 'time=18.522', 'ms'],\n",
       " ['64', 'bytes', 'from', '8.8.8.8:', 'seq=83', 'ttl=58', 'time=17.762', 'ms'],\n",
       " ['64', 'bytes', 'from', '8.8.8.8:', 'seq=84', 'ttl=58', 'time=15.079', 'ms'],\n",
       " ['64', 'bytes', 'from', '8.8.8.8:', 'seq=85', 'ttl=58', 'time=16.914', 'ms'],\n",
       " ['64', 'bytes', 'from', '8.8.8.8:', 'seq=86', 'ttl=58', 'time=15.364', 'ms'],\n",
       " ['64', 'bytes', 'from', '8.8.8.8:', 'seq=87', 'ttl=58', 'time=16.141', 'ms'],\n",
       " ['64', 'bytes', 'from', '8.8.8.8:', 'seq=88', 'ttl=58', 'time=21.276', 'ms'],\n",
       " ['64', 'bytes', 'from', '8.8.8.8:', 'seq=89', 'ttl=58', 'time=19.506', 'ms'],\n",
       " ['64', 'bytes', 'from', '8.8.8.8:', 'seq=90', 'ttl=58', 'time=19.699', 'ms'],\n",
       " ['64', 'bytes', 'from', '8.8.8.8:', 'seq=91', 'ttl=58', 'time=22.322', 'ms'],\n",
       " ['64', 'bytes', 'from', '8.8.8.8:', 'seq=92', 'ttl=58', 'time=15.805', 'ms'],\n",
       " ['64', 'bytes', 'from', '8.8.8.8:', 'seq=93', 'ttl=58', 'time=17.955', 'ms'],\n",
       " ['64', 'bytes', 'from', '8.8.8.8:', 'seq=94', 'ttl=58', 'time=19.354', 'ms'],\n",
       " ['64', 'bytes', 'from', '8.8.8.8:', 'seq=95', 'ttl=58', 'time=16.473', 'ms'],\n",
       " ['64', 'bytes', 'from', '8.8.8.8:', 'seq=96', 'ttl=58', 'time=19.197', 'ms'],\n",
       " ['64', 'bytes', 'from', '8.8.8.8:', 'seq=97', 'ttl=58', 'time=16.237', 'ms'],\n",
       " ['64', 'bytes', 'from', '8.8.8.8:', 'seq=98', 'ttl=58', 'time=19.126', 'ms'],\n",
       " []]"
      ]
     },
     "execution_count": 91,
     "metadata": {},
     "output_type": "execute_result"
    }
   ],
   "source": [
    "# The data is imported from a text file (`ping_test.txt`) and processed into a structured format. \n",
    "# Each line represents a ping result, and the necessary details are extracted for further analysis.\n",
    "\n",
    "file = open('ping_test.txt', 'r')\n",
    "\n",
    "# We read the data from the text file, stripping out unnecessary line breaks and whitespace.\n",
    "lines = [line.strip() for line in file.readlines()]\n",
    "print(lines)\n",
    "\n",
    "data = [x.split() for x in lines]\n",
    "data"
   ]
  },
  {
   "cell_type": "markdown",
   "metadata": {},
   "source": [
    "### Data Cleaning and Structuring\n",
    "\n",
    "> The raw data is split and converted into a Pandas DataFrame for easier manipulation. We extract the sequence number and the time taken for each ping, ensuring the data is in a suitable format for analysis."
   ]
  },
  {
   "cell_type": "code",
   "execution_count": 92,
   "metadata": {},
   "outputs": [
    {
     "name": "stdout",
     "output_type": "stream",
     "text": [
      "99\n",
      "99\n",
      "The last ping (ms) value in the new dataframe is:  19.126 ms\n"
     ]
    },
    {
     "data": {
      "text/html": [
       "<div>\n",
       "<style scoped>\n",
       "    .dataframe tbody tr th:only-of-type {\n",
       "        vertical-align: middle;\n",
       "    }\n",
       "\n",
       "    .dataframe tbody tr th {\n",
       "        vertical-align: top;\n",
       "    }\n",
       "\n",
       "    .dataframe thead th {\n",
       "        text-align: right;\n",
       "    }\n",
       "</style>\n",
       "<table border=\"1\" class=\"dataframe\">\n",
       "  <thead>\n",
       "    <tr style=\"text-align: right;\">\n",
       "      <th></th>\n",
       "      <th>ping (ms)</th>\n",
       "    </tr>\n",
       "  </thead>\n",
       "  <tbody>\n",
       "    <tr>\n",
       "      <th>0</th>\n",
       "      <td>18.834</td>\n",
       "    </tr>\n",
       "    <tr>\n",
       "      <th>1</th>\n",
       "      <td>22.746</td>\n",
       "    </tr>\n",
       "    <tr>\n",
       "      <th>2</th>\n",
       "      <td>20.971</td>\n",
       "    </tr>\n",
       "    <tr>\n",
       "      <th>3</th>\n",
       "      <td>23.698</td>\n",
       "    </tr>\n",
       "    <tr>\n",
       "      <th>4</th>\n",
       "      <td>19.551</td>\n",
       "    </tr>\n",
       "    <tr>\n",
       "      <th>...</th>\n",
       "      <td>...</td>\n",
       "    </tr>\n",
       "    <tr>\n",
       "      <th>94</th>\n",
       "      <td>19.354</td>\n",
       "    </tr>\n",
       "    <tr>\n",
       "      <th>95</th>\n",
       "      <td>16.473</td>\n",
       "    </tr>\n",
       "    <tr>\n",
       "      <th>96</th>\n",
       "      <td>19.197</td>\n",
       "    </tr>\n",
       "    <tr>\n",
       "      <th>97</th>\n",
       "      <td>16.237</td>\n",
       "    </tr>\n",
       "    <tr>\n",
       "      <th>98</th>\n",
       "      <td>19.126</td>\n",
       "    </tr>\n",
       "  </tbody>\n",
       "</table>\n",
       "<p>99 rows × 1 columns</p>\n",
       "</div>"
      ],
      "text/plain": [
       "    ping (ms)\n",
       "0      18.834\n",
       "1      22.746\n",
       "2      20.971\n",
       "3      23.698\n",
       "4      19.551\n",
       "..        ...\n",
       "94     19.354\n",
       "95     16.473\n",
       "96     19.197\n",
       "97     16.237\n",
       "98     19.126\n",
       "\n",
       "[99 rows x 1 columns]"
      ]
     },
     "execution_count": 92,
     "metadata": {},
     "output_type": "execute_result"
    }
   ],
   "source": [
    "df = pd.DataFrame(data)\n",
    "\n",
    "x = []\n",
    "y = []\n",
    "\n",
    "value = 0\n",
    "for t in df[6]:\n",
    "    if value < len(data)-1:\n",
    "        y.append(value)\n",
    "    else:\n",
    "        continue\n",
    "    value+=1\n",
    "    x.append(float(t[5:]))\n",
    "\n",
    "# Checks if length of x and y values are the same before creating DataFrame\n",
    "print(len(x))\n",
    "print(len(y))\n",
    "\n",
    "# Checks if the last row is missing\n",
    "print('The last ping (ms) value in the new dataframe is: ', x[-1], 'ms')\n",
    "\n",
    "# Create a new dataframe with columns showing only ping (ms) and sequence number\n",
    "df_ping = pd.DataFrame(x, y, columns=['ping (ms)'])\n",
    "df_ping"
   ]
  },
  {
   "cell_type": "code",
   "execution_count": 131,
   "metadata": {},
   "outputs": [
    {
     "name": "stdout",
     "output_type": "stream",
     "text": [
      "       ping (ms)\n",
      "count  99.000000\n",
      "mean   18.060707\n",
      "std     2.886229\n",
      "min    14.522000\n",
      "25%    15.949000\n",
      "50%    17.541000\n",
      "75%    19.430000\n",
      "max    37.170000\n",
      "\n",
      "Number of packets sent & received:  99.0 ms\n",
      "The mean ping was:  18.06 ms\n",
      "The maximum ping was:  37.17 ms\n",
      "The minimum ping was:  14.52 ms\n"
     ]
    }
   ],
   "source": [
    "# Shows the number of packets transmitted, mean ping, min/max latency in ms\n",
    "\n",
    "pings = df_ping.describe()\n",
    "print(pings)\n",
    "\n",
    "print('\\nNumber of packets sent & received: ', pings.iloc[0, 0], 'ms')\n",
    "print('The mean ping was: ', pings.iloc[1, 0].round(2), 'ms')\n",
    "print('The maximum ping was: ', pings.iloc[7, 0].round(2), 'ms')\n",
    "print('The minimum ping was: ', pings.iloc[3, 0].round(2), 'ms')\n"
   ]
  },
  {
   "cell_type": "markdown",
   "metadata": {},
   "source": [
    "### Data Visualization\n",
    "\n",
    "> The cleaned data is visualized to showcase the packet loss."
   ]
  },
  {
   "cell_type": "code",
   "execution_count": 144,
   "metadata": {},
   "outputs": [
    {
     "name": "stdout",
     "output_type": "stream",
     "text": [
      "The max value was at sequence nr.:      ping (ms)\n",
      "27      37.17\n"
     ]
    },
    {
     "data": {
      "text/plain": [
       "<matplotlib.collections.PathCollection at 0x180eddc0bd0>"
      ]
     },
     "execution_count": 144,
     "metadata": {},
     "output_type": "execute_result"
    },
    {
     "data": {
      "image/png": "[encoded data removed]",
      "text/plain": [
       "<Figure size 800x500 with 1 Axes>"
      ]
     },
     "metadata": {},
     "output_type": "display_data"
    }
   ],
   "source": [
    "# The x-axis represents the sequence of pings, while the y-axis shows the time taken in milliseconds. \n",
    "# The plot helps in identifying any anomalies or patterns in the data, which is useful for diagnosing network issues.\n",
    "\n",
    "plt.figure(figsize=(8,5))\n",
    "\n",
    "# The processed data is plotted to visualize the latency over time, helping to identify packet loss occurrences.\n",
    "\n",
    "# Example 1: Matplotlib plot\n",
    "#plt.plot(df_ping.index, df_ping['ping (ms)'], marker='o', linewidth=2)\n",
    "\n",
    "# Example 2: Seaborn plot\n",
    "sns.lineplot(\n",
    "    x=df_ping.index, \n",
    "    y=df_ping['ping (ms)'], \n",
    "    marker='o', \n",
    "    linewidth=1, \n",
    "    color='b', \n",
    "    linestyle='-',\n",
    "    zorder=6\n",
    ")\n",
    "\n",
    "plt.xlabel('sequence number of packets', \n",
    "           **calibri, \n",
    "           fontdict={'fontsize': 12})\n",
    "plt.ylabel('ping (ms)', \n",
    "           **calibri, \n",
    "           fontdict={'fontsize': 12})\n",
    "plt.title('Router latency', \n",
    "          **calibri, \n",
    "          fontdict={'fontweight':'bold', 'fontsize': 20})\n",
    "\n",
    "# Highlighting the max ping spike\n",
    "print('The max value was at sequence nr.: ', df_ping.loc[df_ping['ping (ms)'] == pings.iloc[7, 0]])\n",
    "highlight_index = 27\n",
    "highlight_value = df_ping.loc[highlight_index, 'ping (ms)']\n",
    "plt.scatter(highlight_index, highlight_value, s=100, edgecolor='red', zorder=5)"
   ]
  }
 ],
 "metadata": {
  "kernelspec": {
   "display_name": "Python 3",
   "language": "python",
   "name": "python3"
  },
  "language_info": {
   "codemirror_mode": {
    "name": "ipython",
    "version": 3
   },
   "file_extension": ".py",
   "mimetype": "text/x-python",
   "name": "python",
   "nbconvert_exporter": "python",
   "pygments_lexer": "ipython3",
   "version": "3.11.9"
  }
 },
 "nbformat": 4,
 "nbformat_minor": 2
}
